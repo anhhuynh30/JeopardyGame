{
 "cells": [
  {
   "cell_type": "markdown",
   "metadata": {},
   "source": [
    "# Jeopardy! Game\n",
    "The main goal of this project is to practice writing several functions to:\n",
    "1. investigate a dataset of *Jeopardy! Game* questions and answers, filter the dataset\n",
    "2. filter the dataset for topics that the players are insterested in\n",
    "3. compute the average difficulty of the questions"
   ]
  },
  {
   "cell_type": "code",
   "execution_count": 1,
   "metadata": {},
   "outputs": [],
   "source": [
    "# Import needed libraries\n",
    "import pandas as pd\n",
    "import datetime\n",
    "import random\n",
    "from time import sleep"
   ]
  },
  {
   "cell_type": "code",
   "execution_count": 2,
   "metadata": {},
   "outputs": [],
   "source": [
    "# Loading the data\n",
    "df = pd.read_csv('jeopardy.csv', parse_dates=[1]) #parse_dates to convert the date column to datetime type\n",
    "pd.set_option('display.max_colwidth', None) # to display the full contents of the columns"
   ]
  },
  {
   "cell_type": "markdown",
   "metadata": {},
   "source": [
    "## Data Wrangling\n",
    "In this section, I will check for the cleanliness of the data, then trim and clean the dataset to make it ready for the analysis."
   ]
  },
  {
   "cell_type": "code",
   "execution_count": 3,
   "metadata": {},
   "outputs": [
    {
     "data": {
      "text/html": [
       "<div>\n",
       "<style scoped>\n",
       "    .dataframe tbody tr th:only-of-type {\n",
       "        vertical-align: middle;\n",
       "    }\n",
       "\n",
       "    .dataframe tbody tr th {\n",
       "        vertical-align: top;\n",
       "    }\n",
       "\n",
       "    .dataframe thead th {\n",
       "        text-align: right;\n",
       "    }\n",
       "</style>\n",
       "<table border=\"1\" class=\"dataframe\">\n",
       "  <thead>\n",
       "    <tr style=\"text-align: right;\">\n",
       "      <th></th>\n",
       "      <th>Show Number</th>\n",
       "      <th>Air Date</th>\n",
       "      <th>Round</th>\n",
       "      <th>Category</th>\n",
       "      <th>Value</th>\n",
       "      <th>Question</th>\n",
       "      <th>Answer</th>\n",
       "    </tr>\n",
       "  </thead>\n",
       "  <tbody>\n",
       "    <tr>\n",
       "      <th>0</th>\n",
       "      <td>4680</td>\n",
       "      <td>2004-12-31</td>\n",
       "      <td>Jeopardy!</td>\n",
       "      <td>HISTORY</td>\n",
       "      <td>$200</td>\n",
       "      <td>For the last 8 years of his life, Galileo was under house arrest for espousing this man's theory</td>\n",
       "      <td>Copernicus</td>\n",
       "    </tr>\n",
       "    <tr>\n",
       "      <th>1</th>\n",
       "      <td>4680</td>\n",
       "      <td>2004-12-31</td>\n",
       "      <td>Jeopardy!</td>\n",
       "      <td>ESPN's TOP 10 ALL-TIME ATHLETES</td>\n",
       "      <td>$200</td>\n",
       "      <td>No. 2: 1912 Olympian; football star at Carlisle Indian School; 6 MLB seasons with the Reds, Giants &amp; Braves</td>\n",
       "      <td>Jim Thorpe</td>\n",
       "    </tr>\n",
       "    <tr>\n",
       "      <th>2</th>\n",
       "      <td>4680</td>\n",
       "      <td>2004-12-31</td>\n",
       "      <td>Jeopardy!</td>\n",
       "      <td>EVERYBODY TALKS ABOUT IT...</td>\n",
       "      <td>$200</td>\n",
       "      <td>The city of Yuma in this state has a record average of 4,055 hours of sunshine each year</td>\n",
       "      <td>Arizona</td>\n",
       "    </tr>\n",
       "    <tr>\n",
       "      <th>3</th>\n",
       "      <td>4680</td>\n",
       "      <td>2004-12-31</td>\n",
       "      <td>Jeopardy!</td>\n",
       "      <td>THE COMPANY LINE</td>\n",
       "      <td>$200</td>\n",
       "      <td>In 1963, live on \"The Art Linkletter Show\", this company served its billionth burger</td>\n",
       "      <td>McDonald's</td>\n",
       "    </tr>\n",
       "    <tr>\n",
       "      <th>4</th>\n",
       "      <td>4680</td>\n",
       "      <td>2004-12-31</td>\n",
       "      <td>Jeopardy!</td>\n",
       "      <td>EPITAPHS &amp; TRIBUTES</td>\n",
       "      <td>$200</td>\n",
       "      <td>Signer of the Dec. of Indep., framer of the Constitution of Mass., second President of the United States</td>\n",
       "      <td>John Adams</td>\n",
       "    </tr>\n",
       "  </tbody>\n",
       "</table>\n",
       "</div>"
      ],
      "text/plain": [
       "   Show Number   Air Date      Round                         Category  Value  \\\n",
       "0         4680 2004-12-31  Jeopardy!                          HISTORY   $200   \n",
       "1         4680 2004-12-31  Jeopardy!  ESPN's TOP 10 ALL-TIME ATHLETES   $200   \n",
       "2         4680 2004-12-31  Jeopardy!      EVERYBODY TALKS ABOUT IT...   $200   \n",
       "3         4680 2004-12-31  Jeopardy!                 THE COMPANY LINE   $200   \n",
       "4         4680 2004-12-31  Jeopardy!              EPITAPHS & TRIBUTES   $200   \n",
       "\n",
       "                                                                                                      Question  \\\n",
       "0             For the last 8 years of his life, Galileo was under house arrest for espousing this man's theory   \n",
       "1  No. 2: 1912 Olympian; football star at Carlisle Indian School; 6 MLB seasons with the Reds, Giants & Braves   \n",
       "2                     The city of Yuma in this state has a record average of 4,055 hours of sunshine each year   \n",
       "3                         In 1963, live on \"The Art Linkletter Show\", this company served its billionth burger   \n",
       "4     Signer of the Dec. of Indep., framer of the Constitution of Mass., second President of the United States   \n",
       "\n",
       "       Answer  \n",
       "0  Copernicus  \n",
       "1  Jim Thorpe  \n",
       "2     Arizona  \n",
       "3  McDonald's  \n",
       "4  John Adams  "
      ]
     },
     "execution_count": 3,
     "metadata": {},
     "output_type": "execute_result"
    }
   ],
   "source": [
    "# Check the first few lines of the dataset\n",
    "df.head()"
   ]
  },
  {
   "cell_type": "code",
   "execution_count": 4,
   "metadata": {},
   "outputs": [
    {
     "data": {
      "text/plain": [
       "Show Number             int64\n",
       " Air Date      datetime64[ns]\n",
       " Round                 object\n",
       " Category              object\n",
       " Value                 object\n",
       " Question              object\n",
       " Answer                object\n",
       "dtype: object"
      ]
     },
     "execution_count": 4,
     "metadata": {},
     "output_type": "execute_result"
    }
   ],
   "source": [
    "# Check the data types\n",
    "df.dtypes"
   ]
  },
  {
   "cell_type": "markdown",
   "metadata": {},
   "source": [
    "> The **Value** column has data type as *object*, in order to compute the values in this column, it is neccessary to convert it to *float* type"
   ]
  },
  {
   "cell_type": "code",
   "execution_count": 5,
   "metadata": {},
   "outputs": [
    {
     "data": {
      "text/plain": [
       "Index(['Show Number', ' Air Date', ' Round', ' Category', ' Value',\n",
       "       ' Question', ' Answer'],\n",
       "      dtype='object')"
      ]
     },
     "execution_count": 5,
     "metadata": {},
     "output_type": "execute_result"
    }
   ],
   "source": [
    "# Check columns \n",
    "df.columns"
   ]
  },
  {
   "cell_type": "markdown",
   "metadata": {},
   "source": [
    "> There are empty spaces in front of the column' names --> Rename all the columns to get rid of empty spaces and make it more consistent."
   ]
  },
  {
   "cell_type": "code",
   "execution_count": 6,
   "metadata": {},
   "outputs": [],
   "source": [
    "# Rename the columns\n",
    "df.rename(columns={'Show Number':'show_number',\n",
    "\t\t' Air Date':'air_date',\n",
    "\t\t' Round':'round',\n",
    "\t\t' Category': 'category',\n",
    "\t\t' Value':'value',\n",
    "\t\t' Question':'question',\n",
    "\t\t' Answer':'answer'},\n",
    "\t\tinplace = True)"
   ]
  },
  {
   "cell_type": "code",
   "execution_count": 7,
   "metadata": {},
   "outputs": [
    {
     "name": "stdout",
     "output_type": "stream",
     "text": [
      "<class 'pandas.core.frame.DataFrame'>\n",
      "RangeIndex: 216930 entries, 0 to 216929\n",
      "Data columns (total 7 columns):\n",
      " #   Column       Non-Null Count   Dtype         \n",
      "---  ------       --------------   -----         \n",
      " 0   show_number  216930 non-null  int64         \n",
      " 1   air_date     216930 non-null  datetime64[ns]\n",
      " 2   round        216930 non-null  object        \n",
      " 3   category     216930 non-null  object        \n",
      " 4   value        216930 non-null  object        \n",
      " 5   question     216930 non-null  object        \n",
      " 6   answer       216928 non-null  object        \n",
      "dtypes: datetime64[ns](1), int64(1), object(5)\n",
      "memory usage: 11.6+ MB\n"
     ]
    }
   ],
   "source": [
    "df.info()"
   ]
  },
  {
   "cell_type": "markdown",
   "metadata": {},
   "source": [
    "> The dataset has **216 930 rows** and **7 columns**."
   ]
  },
  {
   "cell_type": "code",
   "execution_count": 8,
   "metadata": {},
   "outputs": [
    {
     "data": {
      "text/plain": [
       "show_number    0\n",
       "air_date       0\n",
       "round          0\n",
       "category       0\n",
       "value          0\n",
       "question       0\n",
       "answer         2\n",
       "dtype: int64"
      ]
     },
     "execution_count": 8,
     "metadata": {},
     "output_type": "execute_result"
    }
   ],
   "source": [
    "# Check if there is null values\n",
    "df.isnull().sum()"
   ]
  },
  {
   "cell_type": "markdown",
   "metadata": {},
   "source": [
    "> **answer** column has **2** null values."
   ]
  },
  {
   "cell_type": "code",
   "execution_count": 9,
   "metadata": {},
   "outputs": [
    {
     "data": {
      "text/html": [
       "<div>\n",
       "<style scoped>\n",
       "    .dataframe tbody tr th:only-of-type {\n",
       "        vertical-align: middle;\n",
       "    }\n",
       "\n",
       "    .dataframe tbody tr th {\n",
       "        vertical-align: top;\n",
       "    }\n",
       "\n",
       "    .dataframe thead th {\n",
       "        text-align: right;\n",
       "    }\n",
       "</style>\n",
       "<table border=\"1\" class=\"dataframe\">\n",
       "  <thead>\n",
       "    <tr style=\"text-align: right;\">\n",
       "      <th></th>\n",
       "      <th>show_number</th>\n",
       "      <th>air_date</th>\n",
       "      <th>round</th>\n",
       "      <th>category</th>\n",
       "      <th>value</th>\n",
       "      <th>question</th>\n",
       "      <th>answer</th>\n",
       "    </tr>\n",
       "  </thead>\n",
       "  <tbody>\n",
       "    <tr>\n",
       "      <th>94817</th>\n",
       "      <td>4346</td>\n",
       "      <td>2003-06-23</td>\n",
       "      <td>Jeopardy!</td>\n",
       "      <td>GOING \"N\"SANE</td>\n",
       "      <td>$200</td>\n",
       "      <td>It often precedes \"and void\"</td>\n",
       "      <td>NaN</td>\n",
       "    </tr>\n",
       "    <tr>\n",
       "      <th>143297</th>\n",
       "      <td>6177</td>\n",
       "      <td>2011-06-21</td>\n",
       "      <td>Double Jeopardy!</td>\n",
       "      <td>NOTHING</td>\n",
       "      <td>$400</td>\n",
       "      <td>This word for \"nothing\" precedes \"and void\" to mean \"not valid\"</td>\n",
       "      <td>NaN</td>\n",
       "    </tr>\n",
       "  </tbody>\n",
       "</table>\n",
       "</div>"
      ],
      "text/plain": [
       "        show_number   air_date             round       category value  \\\n",
       "94817          4346 2003-06-23         Jeopardy!  GOING \"N\"SANE  $200   \n",
       "143297         6177 2011-06-21  Double Jeopardy!        NOTHING  $400   \n",
       "\n",
       "                                                               question answer  \n",
       "94817                                      It often precedes \"and void\"    NaN  \n",
       "143297  This word for \"nothing\" precedes \"and void\" to mean \"not valid\"    NaN  "
      ]
     },
     "execution_count": 9,
     "metadata": {},
     "output_type": "execute_result"
    }
   ],
   "source": [
    "# Check the row has has null values in answer column\n",
    "answer_null_data = df[df.isnull().any(axis=1)]\n",
    "answer_null_data"
   ]
  },
  {
   "cell_type": "markdown",
   "metadata": {},
   "source": [
    "> The answer for both of these questions is **\"Null\"**, so instead of leaving the answer empty, I will assign the answer **Null** to these empty fields."
   ]
  },
  {
   "cell_type": "code",
   "execution_count": 10,
   "metadata": {},
   "outputs": [],
   "source": [
    "# Fill the empty values with the string 'Null'\n",
    "df.fillna('Null', inplace=True)"
   ]
  },
  {
   "cell_type": "code",
   "execution_count": 11,
   "metadata": {},
   "outputs": [
    {
     "data": {
      "text/plain": [
       "show_number    0\n",
       "air_date       0\n",
       "round          0\n",
       "category       0\n",
       "value          0\n",
       "question       0\n",
       "answer         0\n",
       "dtype: int64"
      ]
     },
     "execution_count": 11,
     "metadata": {},
     "output_type": "execute_result"
    }
   ],
   "source": [
    "# Double check if the empty values were filled\n",
    "df.isnull().sum()"
   ]
  },
  {
   "cell_type": "code",
   "execution_count": 12,
   "metadata": {},
   "outputs": [
    {
     "data": {
      "text/plain": [
       "show_number      3640\n",
       "air_date         3640\n",
       "round               4\n",
       "category        27995\n",
       "value             150\n",
       "question       216124\n",
       "answer          88269\n",
       "dtype: int64"
      ]
     },
     "execution_count": 12,
     "metadata": {},
     "output_type": "execute_result"
    }
   ],
   "source": [
    "# Check for unique value of each columns\n",
    "df.nunique()"
   ]
  },
  {
   "cell_type": "code",
   "execution_count": 13,
   "metadata": {},
   "outputs": [
    {
     "data": {
      "text/plain": [
       "0"
      ]
     },
     "execution_count": 13,
     "metadata": {},
     "output_type": "execute_result"
    }
   ],
   "source": [
    "# Check for duplicate rows\n",
    "df.duplicated().sum()"
   ]
  },
  {
   "cell_type": "markdown",
   "metadata": {},
   "source": [
    "## Cleaning Data\n",
    "**To be fixed:** convert datatype of column *value* into float and save the float values to a new column named *float_value*.\n"
   ]
  },
  {
   "cell_type": "code",
   "execution_count": 14,
   "metadata": {},
   "outputs": [
    {
     "data": {
      "text/plain": [
       "array(['$200', '$400', '$600', '$800', '$2,000', '$1000', '$1200',\n",
       "       '$1600', '$2000', '$3,200', 'None', '$5,000', '$100', '$300',\n",
       "       '$500', '$1,000', '$1,500', '$1,200', '$4,800', '$1,800', '$1,100',\n",
       "       '$2,200', '$3,400', '$3,000', '$4,000', '$1,600', '$6,800',\n",
       "       '$1,900', '$3,100', '$700', '$1,400', '$2,800', '$8,000', '$6,000',\n",
       "       '$2,400', '$12,000', '$3,800', '$2,500', '$6,200', '$10,000',\n",
       "       '$7,000', '$1,492', '$7,400', '$1,300', '$7,200', '$2,600',\n",
       "       '$3,300', '$5,400', '$4,500', '$2,100', '$900', '$3,600', '$2,127',\n",
       "       '$367', '$4,400', '$3,500', '$2,900', '$3,900', '$4,100', '$4,600',\n",
       "       '$10,800', '$2,300', '$5,600', '$1,111', '$8,200', '$5,800',\n",
       "       '$750', '$7,500', '$1,700', '$9,000', '$6,100', '$1,020', '$4,700',\n",
       "       '$2,021', '$5,200', '$3,389', '$4,200', '$5', '$2,001', '$1,263',\n",
       "       '$4,637', '$3,201', '$6,600', '$3,700', '$2,990', '$5,500',\n",
       "       '$14,000', '$2,700', '$6,400', '$350', '$8,600', '$6,300', '$250',\n",
       "       '$3,989', '$8,917', '$9,500', '$1,246', '$6,435', '$8,800',\n",
       "       '$2,222', '$2,746', '$10,400', '$7,600', '$6,700', '$5,100',\n",
       "       '$13,200', '$4,300', '$1,407', '$12,400', '$5,401', '$7,800',\n",
       "       '$1,183', '$1,203', '$13,000', '$11,600', '$14,200', '$1,809',\n",
       "       '$8,400', '$8,700', '$11,000', '$5,201', '$1,801', '$3,499',\n",
       "       '$5,700', '$601', '$4,008', '$50', '$2,344', '$2,811', '$18,000',\n",
       "       '$1,777', '$3,599', '$9,800', '$796', '$3,150', '$20', '$1,810',\n",
       "       '$22', '$9,200', '$1,512', '$8,500', '$585', '$1,534', '$13,800',\n",
       "       '$5,001', '$4,238', '$16,400', '$1,347', '$2547', '$11,200'],\n",
       "      dtype=object)"
      ]
     },
     "execution_count": 14,
     "metadata": {},
     "output_type": "execute_result"
    }
   ],
   "source": [
    "# Take a look at unique values of column value\n",
    "df.value.unique()"
   ]
  },
  {
   "cell_type": "code",
   "execution_count": 15,
   "metadata": {},
   "outputs": [],
   "source": [
    "# Strip the $ sign in front of the value and replace the ',' sign with empty ''\n",
    "# Then turn the value into float value as long as is's not the 'None' values\n",
    "# If it's 'None', then replace 'None' with 0\n",
    "df['float_value'] = df.value.apply(lambda x:\n",
    "\t\t\t\tfloat(x[1:].replace(',',''))\n",
    "\t\t\t\tif x != 'None'\n",
    "\t\t\t\telse 0)"
   ]
  },
  {
   "cell_type": "code",
   "execution_count": 16,
   "metadata": {},
   "outputs": [
    {
     "data": {
      "text/html": [
       "<div>\n",
       "<style scoped>\n",
       "    .dataframe tbody tr th:only-of-type {\n",
       "        vertical-align: middle;\n",
       "    }\n",
       "\n",
       "    .dataframe tbody tr th {\n",
       "        vertical-align: top;\n",
       "    }\n",
       "\n",
       "    .dataframe thead th {\n",
       "        text-align: right;\n",
       "    }\n",
       "</style>\n",
       "<table border=\"1\" class=\"dataframe\">\n",
       "  <thead>\n",
       "    <tr style=\"text-align: right;\">\n",
       "      <th></th>\n",
       "      <th>show_number</th>\n",
       "      <th>air_date</th>\n",
       "      <th>round</th>\n",
       "      <th>category</th>\n",
       "      <th>value</th>\n",
       "      <th>question</th>\n",
       "      <th>answer</th>\n",
       "      <th>float_value</th>\n",
       "    </tr>\n",
       "  </thead>\n",
       "  <tbody>\n",
       "    <tr>\n",
       "      <th>0</th>\n",
       "      <td>4680</td>\n",
       "      <td>2004-12-31</td>\n",
       "      <td>Jeopardy!</td>\n",
       "      <td>HISTORY</td>\n",
       "      <td>$200</td>\n",
       "      <td>For the last 8 years of his life, Galileo was under house arrest for espousing this man's theory</td>\n",
       "      <td>Copernicus</td>\n",
       "      <td>200.0</td>\n",
       "    </tr>\n",
       "    <tr>\n",
       "      <th>1</th>\n",
       "      <td>4680</td>\n",
       "      <td>2004-12-31</td>\n",
       "      <td>Jeopardy!</td>\n",
       "      <td>ESPN's TOP 10 ALL-TIME ATHLETES</td>\n",
       "      <td>$200</td>\n",
       "      <td>No. 2: 1912 Olympian; football star at Carlisle Indian School; 6 MLB seasons with the Reds, Giants &amp; Braves</td>\n",
       "      <td>Jim Thorpe</td>\n",
       "      <td>200.0</td>\n",
       "    </tr>\n",
       "    <tr>\n",
       "      <th>2</th>\n",
       "      <td>4680</td>\n",
       "      <td>2004-12-31</td>\n",
       "      <td>Jeopardy!</td>\n",
       "      <td>EVERYBODY TALKS ABOUT IT...</td>\n",
       "      <td>$200</td>\n",
       "      <td>The city of Yuma in this state has a record average of 4,055 hours of sunshine each year</td>\n",
       "      <td>Arizona</td>\n",
       "      <td>200.0</td>\n",
       "    </tr>\n",
       "    <tr>\n",
       "      <th>3</th>\n",
       "      <td>4680</td>\n",
       "      <td>2004-12-31</td>\n",
       "      <td>Jeopardy!</td>\n",
       "      <td>THE COMPANY LINE</td>\n",
       "      <td>$200</td>\n",
       "      <td>In 1963, live on \"The Art Linkletter Show\", this company served its billionth burger</td>\n",
       "      <td>McDonald's</td>\n",
       "      <td>200.0</td>\n",
       "    </tr>\n",
       "    <tr>\n",
       "      <th>4</th>\n",
       "      <td>4680</td>\n",
       "      <td>2004-12-31</td>\n",
       "      <td>Jeopardy!</td>\n",
       "      <td>EPITAPHS &amp; TRIBUTES</td>\n",
       "      <td>$200</td>\n",
       "      <td>Signer of the Dec. of Indep., framer of the Constitution of Mass., second President of the United States</td>\n",
       "      <td>John Adams</td>\n",
       "      <td>200.0</td>\n",
       "    </tr>\n",
       "  </tbody>\n",
       "</table>\n",
       "</div>"
      ],
      "text/plain": [
       "   show_number   air_date      round                         category value  \\\n",
       "0         4680 2004-12-31  Jeopardy!                          HISTORY  $200   \n",
       "1         4680 2004-12-31  Jeopardy!  ESPN's TOP 10 ALL-TIME ATHLETES  $200   \n",
       "2         4680 2004-12-31  Jeopardy!      EVERYBODY TALKS ABOUT IT...  $200   \n",
       "3         4680 2004-12-31  Jeopardy!                 THE COMPANY LINE  $200   \n",
       "4         4680 2004-12-31  Jeopardy!              EPITAPHS & TRIBUTES  $200   \n",
       "\n",
       "                                                                                                      question  \\\n",
       "0             For the last 8 years of his life, Galileo was under house arrest for espousing this man's theory   \n",
       "1  No. 2: 1912 Olympian; football star at Carlisle Indian School; 6 MLB seasons with the Reds, Giants & Braves   \n",
       "2                     The city of Yuma in this state has a record average of 4,055 hours of sunshine each year   \n",
       "3                         In 1963, live on \"The Art Linkletter Show\", this company served its billionth burger   \n",
       "4     Signer of the Dec. of Indep., framer of the Constitution of Mass., second President of the United States   \n",
       "\n",
       "       answer  float_value  \n",
       "0  Copernicus        200.0  \n",
       "1  Jim Thorpe        200.0  \n",
       "2     Arizona        200.0  \n",
       "3  McDonald's        200.0  \n",
       "4  John Adams        200.0  "
      ]
     },
     "execution_count": 16,
     "metadata": {},
     "output_type": "execute_result"
    }
   ],
   "source": [
    "df.head()"
   ]
  },
  {
   "cell_type": "code",
   "execution_count": 17,
   "metadata": {},
   "outputs": [],
   "source": [
    "# Rearrange the order of the columns so that column value and float_value next to each other\n",
    "df = df.reindex(columns= ['show_number', 'air_date', 'round', 'category', 'value', \n",
    "\t\t'float_value', 'question', 'answer'])"
   ]
  },
  {
   "cell_type": "code",
   "execution_count": 18,
   "metadata": {},
   "outputs": [
    {
     "data": {
      "text/html": [
       "<div>\n",
       "<style scoped>\n",
       "    .dataframe tbody tr th:only-of-type {\n",
       "        vertical-align: middle;\n",
       "    }\n",
       "\n",
       "    .dataframe tbody tr th {\n",
       "        vertical-align: top;\n",
       "    }\n",
       "\n",
       "    .dataframe thead th {\n",
       "        text-align: right;\n",
       "    }\n",
       "</style>\n",
       "<table border=\"1\" class=\"dataframe\">\n",
       "  <thead>\n",
       "    <tr style=\"text-align: right;\">\n",
       "      <th></th>\n",
       "      <th>show_number</th>\n",
       "      <th>air_date</th>\n",
       "      <th>round</th>\n",
       "      <th>category</th>\n",
       "      <th>value</th>\n",
       "      <th>float_value</th>\n",
       "      <th>question</th>\n",
       "      <th>answer</th>\n",
       "    </tr>\n",
       "  </thead>\n",
       "  <tbody>\n",
       "    <tr>\n",
       "      <th>0</th>\n",
       "      <td>4680</td>\n",
       "      <td>2004-12-31</td>\n",
       "      <td>Jeopardy!</td>\n",
       "      <td>HISTORY</td>\n",
       "      <td>$200</td>\n",
       "      <td>200.0</td>\n",
       "      <td>For the last 8 years of his life, Galileo was under house arrest for espousing this man's theory</td>\n",
       "      <td>Copernicus</td>\n",
       "    </tr>\n",
       "    <tr>\n",
       "      <th>1</th>\n",
       "      <td>4680</td>\n",
       "      <td>2004-12-31</td>\n",
       "      <td>Jeopardy!</td>\n",
       "      <td>ESPN's TOP 10 ALL-TIME ATHLETES</td>\n",
       "      <td>$200</td>\n",
       "      <td>200.0</td>\n",
       "      <td>No. 2: 1912 Olympian; football star at Carlisle Indian School; 6 MLB seasons with the Reds, Giants &amp; Braves</td>\n",
       "      <td>Jim Thorpe</td>\n",
       "    </tr>\n",
       "    <tr>\n",
       "      <th>2</th>\n",
       "      <td>4680</td>\n",
       "      <td>2004-12-31</td>\n",
       "      <td>Jeopardy!</td>\n",
       "      <td>EVERYBODY TALKS ABOUT IT...</td>\n",
       "      <td>$200</td>\n",
       "      <td>200.0</td>\n",
       "      <td>The city of Yuma in this state has a record average of 4,055 hours of sunshine each year</td>\n",
       "      <td>Arizona</td>\n",
       "    </tr>\n",
       "    <tr>\n",
       "      <th>3</th>\n",
       "      <td>4680</td>\n",
       "      <td>2004-12-31</td>\n",
       "      <td>Jeopardy!</td>\n",
       "      <td>THE COMPANY LINE</td>\n",
       "      <td>$200</td>\n",
       "      <td>200.0</td>\n",
       "      <td>In 1963, live on \"The Art Linkletter Show\", this company served its billionth burger</td>\n",
       "      <td>McDonald's</td>\n",
       "    </tr>\n",
       "    <tr>\n",
       "      <th>4</th>\n",
       "      <td>4680</td>\n",
       "      <td>2004-12-31</td>\n",
       "      <td>Jeopardy!</td>\n",
       "      <td>EPITAPHS &amp; TRIBUTES</td>\n",
       "      <td>$200</td>\n",
       "      <td>200.0</td>\n",
       "      <td>Signer of the Dec. of Indep., framer of the Constitution of Mass., second President of the United States</td>\n",
       "      <td>John Adams</td>\n",
       "    </tr>\n",
       "  </tbody>\n",
       "</table>\n",
       "</div>"
      ],
      "text/plain": [
       "   show_number   air_date      round                         category value  \\\n",
       "0         4680 2004-12-31  Jeopardy!                          HISTORY  $200   \n",
       "1         4680 2004-12-31  Jeopardy!  ESPN's TOP 10 ALL-TIME ATHLETES  $200   \n",
       "2         4680 2004-12-31  Jeopardy!      EVERYBODY TALKS ABOUT IT...  $200   \n",
       "3         4680 2004-12-31  Jeopardy!                 THE COMPANY LINE  $200   \n",
       "4         4680 2004-12-31  Jeopardy!              EPITAPHS & TRIBUTES  $200   \n",
       "\n",
       "   float_value  \\\n",
       "0        200.0   \n",
       "1        200.0   \n",
       "2        200.0   \n",
       "3        200.0   \n",
       "4        200.0   \n",
       "\n",
       "                                                                                                      question  \\\n",
       "0             For the last 8 years of his life, Galileo was under house arrest for espousing this man's theory   \n",
       "1  No. 2: 1912 Olympian; football star at Carlisle Indian School; 6 MLB seasons with the Reds, Giants & Braves   \n",
       "2                     The city of Yuma in this state has a record average of 4,055 hours of sunshine each year   \n",
       "3                         In 1963, live on \"The Art Linkletter Show\", this company served its billionth burger   \n",
       "4     Signer of the Dec. of Indep., framer of the Constitution of Mass., second President of the United States   \n",
       "\n",
       "       answer  \n",
       "0  Copernicus  \n",
       "1  Jim Thorpe  \n",
       "2     Arizona  \n",
       "3  McDonald's  \n",
       "4  John Adams  "
      ]
     },
     "execution_count": 18,
     "metadata": {},
     "output_type": "execute_result"
    }
   ],
   "source": [
    "df.head()"
   ]
  },
  {
   "cell_type": "markdown",
   "metadata": {},
   "source": [
    "# Task 1: find_in_question\n",
    "Write a function that filters the dataset for questions that contains all of the words in a list of words. Then compute the average value for the questions containing that specific list of words.\n",
    "\n",
    "For example, when the list *[\"King\", \"England\"]* was passed to our function, the function returned a DataFrame in which every row had the strings *\"King\"/\"king\"* and *\"England\"/\"england\"* somewhere in its *\"question\"*."
   ]
  },
  {
   "cell_type": "code",
   "execution_count": 19,
   "metadata": {},
   "outputs": [],
   "source": [
    "# Function to filter a dataset by a list of words\n",
    "# .lower(): lowercases for all words so that if we are looking for the word 'King' and we find 'king' it still shows the result\n",
    "# all(): returns True if all items in an iterable are true, otherwise it returns False.\\\n",
    "# If the iterable object is empty, the all() function also returns True.\n",
    "\n",
    "def find_in_question(dataframe, words):\n",
    "\t# Returns true if all of the words in 'words' appear in the the question.\n",
    "    # each_question =  each question in the column 'question'\n",
    "\tfilter = lambda each_question: all(word.lower() in each_question.lower() for word in words)\n",
    "\treturn dataframe.loc[dataframe['question'].apply(filter)]"
   ]
  },
  {
   "cell_type": "code",
   "execution_count": 20,
   "metadata": {},
   "outputs": [
    {
     "data": {
      "text/html": [
       "<div>\n",
       "<style scoped>\n",
       "    .dataframe tbody tr th:only-of-type {\n",
       "        vertical-align: middle;\n",
       "    }\n",
       "\n",
       "    .dataframe tbody tr th {\n",
       "        vertical-align: top;\n",
       "    }\n",
       "\n",
       "    .dataframe thead th {\n",
       "        text-align: right;\n",
       "    }\n",
       "</style>\n",
       "<table border=\"1\" class=\"dataframe\">\n",
       "  <thead>\n",
       "    <tr style=\"text-align: right;\">\n",
       "      <th></th>\n",
       "      <th>show_number</th>\n",
       "      <th>air_date</th>\n",
       "      <th>round</th>\n",
       "      <th>category</th>\n",
       "      <th>value</th>\n",
       "      <th>float_value</th>\n",
       "      <th>question</th>\n",
       "      <th>answer</th>\n",
       "    </tr>\n",
       "  </thead>\n",
       "  <tbody>\n",
       "    <tr>\n",
       "      <th>4953</th>\n",
       "      <td>3003</td>\n",
       "      <td>1997-09-24</td>\n",
       "      <td>Double Jeopardy!</td>\n",
       "      <td>\"PH\"UN WORDS</td>\n",
       "      <td>$200</td>\n",
       "      <td>200.0</td>\n",
       "      <td>Both England's King George V &amp; FDR put their stamp of approval on this \"King of Hobbies\"</td>\n",
       "      <td>Philately (stamp collecting)</td>\n",
       "    </tr>\n",
       "    <tr>\n",
       "      <th>6337</th>\n",
       "      <td>3517</td>\n",
       "      <td>1999-12-14</td>\n",
       "      <td>Double Jeopardy!</td>\n",
       "      <td>Y1K</td>\n",
       "      <td>$800</td>\n",
       "      <td>800.0</td>\n",
       "      <td>In retaliation for Viking raids, this \"Unready\" king of England attacks Norse areas of the Isle of Man</td>\n",
       "      <td>Ethelred</td>\n",
       "    </tr>\n",
       "    <tr>\n",
       "      <th>9191</th>\n",
       "      <td>3907</td>\n",
       "      <td>2001-09-04</td>\n",
       "      <td>Double Jeopardy!</td>\n",
       "      <td>WON THE BATTLE</td>\n",
       "      <td>$800</td>\n",
       "      <td>800.0</td>\n",
       "      <td>This king of England beat the odds to trounce the French in the 1415 Battle of Agincourt</td>\n",
       "      <td>Henry V</td>\n",
       "    </tr>\n",
       "    <tr>\n",
       "      <th>11710</th>\n",
       "      <td>2903</td>\n",
       "      <td>1997-03-26</td>\n",
       "      <td>Double Jeopardy!</td>\n",
       "      <td>BRITISH MONARCHS</td>\n",
       "      <td>$600</td>\n",
       "      <td>600.0</td>\n",
       "      <td>This Scotsman, the first Stuart king of England, was called \"The Wisest Fool in Christendom\"</td>\n",
       "      <td>James I</td>\n",
       "    </tr>\n",
       "    <tr>\n",
       "      <th>13454</th>\n",
       "      <td>4726</td>\n",
       "      <td>2005-03-07</td>\n",
       "      <td>Jeopardy!</td>\n",
       "      <td>A NUMBER FROM 1 TO 10</td>\n",
       "      <td>$1000</td>\n",
       "      <td>1000.0</td>\n",
       "      <td>It's the number that followed the last king of England named William</td>\n",
       "      <td>4</td>\n",
       "    </tr>\n",
       "  </tbody>\n",
       "</table>\n",
       "</div>"
      ],
      "text/plain": [
       "       show_number   air_date             round               category  value  \\\n",
       "4953          3003 1997-09-24  Double Jeopardy!           \"PH\"UN WORDS   $200   \n",
       "6337          3517 1999-12-14  Double Jeopardy!                    Y1K   $800   \n",
       "9191          3907 2001-09-04  Double Jeopardy!         WON THE BATTLE   $800   \n",
       "11710         2903 1997-03-26  Double Jeopardy!       BRITISH MONARCHS   $600   \n",
       "13454         4726 2005-03-07         Jeopardy!  A NUMBER FROM 1 TO 10  $1000   \n",
       "\n",
       "       float_value  \\\n",
       "4953         200.0   \n",
       "6337         800.0   \n",
       "9191         800.0   \n",
       "11710        600.0   \n",
       "13454       1000.0   \n",
       "\n",
       "                                                                                                     question  \\\n",
       "4953                 Both England's King George V & FDR put their stamp of approval on this \"King of Hobbies\"   \n",
       "6337   In retaliation for Viking raids, this \"Unready\" king of England attacks Norse areas of the Isle of Man   \n",
       "9191                 This king of England beat the odds to trounce the French in the 1415 Battle of Agincourt   \n",
       "11710            This Scotsman, the first Stuart king of England, was called \"The Wisest Fool in Christendom\"   \n",
       "13454                                    It's the number that followed the last king of England named William   \n",
       "\n",
       "                             answer  \n",
       "4953   Philately (stamp collecting)  \n",
       "6337                       Ethelred  \n",
       "9191                        Henry V  \n",
       "11710                       James I  \n",
       "13454                             4  "
      ]
     },
     "execution_count": 20,
     "metadata": {},
     "output_type": "execute_result"
    }
   ],
   "source": [
    "# Test the find_in_question function\n",
    "filtered_question = find_in_question(df, ['King', 'England'])\n",
    "filtered_question.head()"
   ]
  },
  {
   "cell_type": "code",
   "execution_count": 21,
   "metadata": {},
   "outputs": [
    {
     "data": {
      "text/plain": [
       "152"
      ]
     },
     "execution_count": 21,
     "metadata": {},
     "output_type": "execute_result"
    }
   ],
   "source": [
    "# Check how many questions that have the words \"King\"/\"king\" and \"England\"/\"england\"\n",
    "len(filtered_question)"
   ]
  },
  {
   "cell_type": "markdown",
   "metadata": {},
   "source": [
    "### Calculating Average Value for Questions that have specific word(s)\n",
    "**Method 1:** Use the **find_in_question** function to filtered out the questions that contain the specific words, then using **.mean()** to compute the average value on the **float_value** column.\n",
    "\n",
    "**Method 2:** Write a new function named **compute_average_value** taking the *dataset* and *list of words* as its parameters. Using the **find_in_question** function within this new function to filter the question, and then compute the average value on the float_value column of the dataset."
   ]
  },
  {
   "cell_type": "code",
   "execution_count": 22,
   "metadata": {},
   "outputs": [
    {
     "name": "stdout",
     "output_type": "stream",
     "text": [
      "The average value of these filtered questions is 886.84$.\n"
     ]
    }
   ],
   "source": [
    "# Method 1: calculate the average value of questions that contain the words \"King\"/\"king\" and \"England\"/\"england\"\n",
    "avg_value = filtered_question.float_value.mean()\n",
    "print(f'The average value of these filtered questions is {avg_value:.2f}$.')"
   ]
  },
  {
   "cell_type": "code",
   "execution_count": 23,
   "metadata": {},
   "outputs": [],
   "source": [
    "# Method 2:\n",
    "def compute_average_value(dataset, words):\n",
    "\tfiltered_data = find_in_question(dataset, words)\n",
    "\tavg_value = filtered_data.float_value.mean()\n",
    "\treturn f'The average value of the questions that have the word(s) {words} is {avg_value:.2f}$.'"
   ]
  },
  {
   "cell_type": "code",
   "execution_count": 24,
   "metadata": {},
   "outputs": [
    {
     "name": "stdout",
     "output_type": "stream",
     "text": [
      "The average value of the questions that have the word(s) ['King', 'England'] is 886.84$.\n"
     ]
    }
   ],
   "source": [
    "# Testing method 2\n",
    "average_value = compute_average_value(df, ['King','England'])\n",
    "print(average_value)"
   ]
  },
  {
   "cell_type": "markdown",
   "metadata": {},
   "source": [
    "## Task 2:\n",
    "Write a function that returns the **count of unique answers** to all of the questions in a dataset. For example, after filtering the entire dataset to only questions containing the word *\"King\"*, we could then find all of the unique answers to those questions. The answer *\"Henry VIII\"* appeared *55* times and was the most common answer."
   ]
  },
  {
   "cell_type": "code",
   "execution_count": 25,
   "metadata": {},
   "outputs": [],
   "source": [
    "# Function to return the count of how many times the answers were used for the questions that have the given keywords\n",
    "def count_unique_answer(dataset, words):\n",
    "\tfiltered_data = find_in_question(dataset, words)\n",
    "\tunique_answers = filtered_data.groupby('answer').float_value.count().sort_values(ascending=False).reset_index()\n",
    "\tunique_answers.rename(columns={'float_value':'count'}, inplace=True)\n",
    "\treturn unique_answers"
   ]
  },
  {
   "cell_type": "code",
   "execution_count": 26,
   "metadata": {},
   "outputs": [
    {
     "data": {
      "text/html": [
       "<div>\n",
       "<style scoped>\n",
       "    .dataframe tbody tr th:only-of-type {\n",
       "        vertical-align: middle;\n",
       "    }\n",
       "\n",
       "    .dataframe tbody tr th {\n",
       "        vertical-align: top;\n",
       "    }\n",
       "\n",
       "    .dataframe thead th {\n",
       "        text-align: right;\n",
       "    }\n",
       "</style>\n",
       "<table border=\"1\" class=\"dataframe\">\n",
       "  <thead>\n",
       "    <tr style=\"text-align: right;\">\n",
       "      <th></th>\n",
       "      <th>answer</th>\n",
       "      <th>count</th>\n",
       "    </tr>\n",
       "  </thead>\n",
       "  <tbody>\n",
       "    <tr>\n",
       "      <th>0</th>\n",
       "      <td>Henry VIII</td>\n",
       "      <td>55</td>\n",
       "    </tr>\n",
       "    <tr>\n",
       "      <th>1</th>\n",
       "      <td>Solomon</td>\n",
       "      <td>35</td>\n",
       "    </tr>\n",
       "    <tr>\n",
       "      <th>2</th>\n",
       "      <td>Richard III</td>\n",
       "      <td>33</td>\n",
       "    </tr>\n",
       "    <tr>\n",
       "      <th>3</th>\n",
       "      <td>Louis XIV</td>\n",
       "      <td>31</td>\n",
       "    </tr>\n",
       "    <tr>\n",
       "      <th>4</th>\n",
       "      <td>David</td>\n",
       "      <td>30</td>\n",
       "    </tr>\n",
       "  </tbody>\n",
       "</table>\n",
       "</div>"
      ],
      "text/plain": [
       "        answer  count\n",
       "0   Henry VIII     55\n",
       "1      Solomon     35\n",
       "2  Richard III     33\n",
       "3    Louis XIV     31\n",
       "4        David     30"
      ]
     },
     "execution_count": 26,
     "metadata": {},
     "output_type": "execute_result"
    }
   ],
   "source": [
    "# Test count_unique_answer function\n",
    "unique_answers = count_unique_answer(df, ['King'])\n",
    "unique_answers.head()"
   ]
  },
  {
   "cell_type": "markdown",
   "metadata": {},
   "source": [
    "## Task 3:\n",
    "Investigate the ways in which questions change over time by filtering by the date. E.g, How many questions from the **90s** use the word **Computer** compared to questions from the **2000s**?"
   ]
  },
  {
   "cell_type": "code",
   "execution_count": 27,
   "metadata": {},
   "outputs": [
    {
     "data": {
      "text/html": [
       "<div>\n",
       "<style scoped>\n",
       "    .dataframe tbody tr th:only-of-type {\n",
       "        vertical-align: middle;\n",
       "    }\n",
       "\n",
       "    .dataframe tbody tr th {\n",
       "        vertical-align: top;\n",
       "    }\n",
       "\n",
       "    .dataframe thead th {\n",
       "        text-align: right;\n",
       "    }\n",
       "</style>\n",
       "<table border=\"1\" class=\"dataframe\">\n",
       "  <thead>\n",
       "    <tr style=\"text-align: right;\">\n",
       "      <th></th>\n",
       "      <th>show_number</th>\n",
       "      <th>air_date</th>\n",
       "      <th>round</th>\n",
       "      <th>category</th>\n",
       "      <th>value</th>\n",
       "      <th>float_value</th>\n",
       "      <th>question</th>\n",
       "      <th>answer</th>\n",
       "    </tr>\n",
       "  </thead>\n",
       "  <tbody>\n",
       "    <tr>\n",
       "      <th>309</th>\n",
       "      <td>5690</td>\n",
       "      <td>2009-05-08</td>\n",
       "      <td>Jeopardy!</td>\n",
       "      <td>OLD FOLKS IN THEIR 30s</td>\n",
       "      <td>$600</td>\n",
       "      <td>600.0</td>\n",
       "      <td>Linus Torvalds is the father of this operating system used on cell phones &amp; supercomputers</td>\n",
       "      <td>Linux</td>\n",
       "    </tr>\n",
       "    <tr>\n",
       "      <th>342</th>\n",
       "      <td>5690</td>\n",
       "      <td>2009-05-08</td>\n",
       "      <td>Double Jeopardy!</td>\n",
       "      <td>MATHEM-ATTACK!</td>\n",
       "      <td>$1200</td>\n",
       "      <td>1200.0</td>\n",
       "      <td>(&lt;a href=\"http://www.j-archive.com/media/2009-05-08_DJ_28.jpg\" target=\"_blank\"&gt;Kelly of the Clue Crew shows an array of numbers enclosed in brackets on the monitor.&lt;/a&gt;)  A set of numbers in rows and columns can be used in many ways--for example, to encrypt a code or create 3-D computer graphics; the set shares this name with a 1999 film</td>\n",
       "      <td>a matrix</td>\n",
       "    </tr>\n",
       "    <tr>\n",
       "      <th>1106</th>\n",
       "      <td>4085</td>\n",
       "      <td>2002-05-10</td>\n",
       "      <td>Double Jeopardy!</td>\n",
       "      <td>\"EN\" THE BEGINNING</td>\n",
       "      <td>$800</td>\n",
       "      <td>800.0</td>\n",
       "      <td>2-word term for the consumer, for whom a computer is ultimately designed</td>\n",
       "      <td>an end user</td>\n",
       "    </tr>\n",
       "    <tr>\n",
       "      <th>1430</th>\n",
       "      <td>4960</td>\n",
       "      <td>2006-03-17</td>\n",
       "      <td>Jeopardy!</td>\n",
       "      <td>RECORD LOSSES IN 2005</td>\n",
       "      <td>$200</td>\n",
       "      <td>200.0</td>\n",
       "      <td>A computer with 98,000 names &amp; SSNs was reported stolen from this oldest campus of the Univ. of Calif.</td>\n",
       "      <td>Berkeley</td>\n",
       "    </tr>\n",
       "    <tr>\n",
       "      <th>2410</th>\n",
       "      <td>3214</td>\n",
       "      <td>1998-07-16</td>\n",
       "      <td>Jeopardy!</td>\n",
       "      <td>PRE-COLUMBIAN CULTURES</td>\n",
       "      <td>$500</td>\n",
       "      <td>500.0</td>\n",
       "      <td>Warriors of this Yucatan civilization battle in the computer-enhanced mural seen here:</td>\n",
       "      <td>Mayans</td>\n",
       "    </tr>\n",
       "  </tbody>\n",
       "</table>\n",
       "</div>"
      ],
      "text/plain": [
       "      show_number   air_date             round                category  value  \\\n",
       "309          5690 2009-05-08         Jeopardy!  OLD FOLKS IN THEIR 30s   $600   \n",
       "342          5690 2009-05-08  Double Jeopardy!          MATHEM-ATTACK!  $1200   \n",
       "1106         4085 2002-05-10  Double Jeopardy!      \"EN\" THE BEGINNING   $800   \n",
       "1430         4960 2006-03-17         Jeopardy!   RECORD LOSSES IN 2005   $200   \n",
       "2410         3214 1998-07-16         Jeopardy!  PRE-COLUMBIAN CULTURES   $500   \n",
       "\n",
       "      float_value  \\\n",
       "309         600.0   \n",
       "342        1200.0   \n",
       "1106        800.0   \n",
       "1430        200.0   \n",
       "2410        500.0   \n",
       "\n",
       "                                                                                                                                                                                                                                                                                                                                                 question  \\\n",
       "309                                                                                                                                                                                                                                                            Linus Torvalds is the father of this operating system used on cell phones & supercomputers   \n",
       "342   (<a href=\"http://www.j-archive.com/media/2009-05-08_DJ_28.jpg\" target=\"_blank\">Kelly of the Clue Crew shows an array of numbers enclosed in brackets on the monitor.</a>)  A set of numbers in rows and columns can be used in many ways--for example, to encrypt a code or create 3-D computer graphics; the set shares this name with a 1999 film   \n",
       "1106                                                                                                                                                                                                                                                                             2-word term for the consumer, for whom a computer is ultimately designed   \n",
       "1430                                                                                                                                                                                                                                               A computer with 98,000 names & SSNs was reported stolen from this oldest campus of the Univ. of Calif.   \n",
       "2410                                                                                                                                                                                                                                                               Warriors of this Yucatan civilization battle in the computer-enhanced mural seen here:   \n",
       "\n",
       "           answer  \n",
       "309         Linux  \n",
       "342      a matrix  \n",
       "1106  an end user  \n",
       "1430     Berkeley  \n",
       "2410       Mayans  "
      ]
     },
     "execution_count": 27,
     "metadata": {},
     "output_type": "execute_result"
    }
   ],
   "source": [
    "# Filter questions that contain the word 'Computer'\n",
    "computer_df = find_in_question(df, ['Computer'])\n",
    "computer_df.head()"
   ]
  },
  {
   "cell_type": "code",
   "execution_count": 28,
   "metadata": {},
   "outputs": [],
   "source": [
    "# Filter questions that has air_date in the 90s (1990-1999) from computer_df\n",
    "computer_90s = computer_df[(computer_df.air_date >= datetime.datetime(1990, 1, 1)) \n",
    "\t\t\t& (computer_df.air_date <= datetime.datetime(1999, 12, 31))]"
   ]
  },
  {
   "cell_type": "code",
   "execution_count": 29,
   "metadata": {},
   "outputs": [],
   "source": [
    "# Filter questions that has air_date in the 2000s (2000-2009) from computer_df\n",
    "computer_2000s = computer_df[(computer_df.air_date >= datetime.datetime(2000, 1, 1)) \n",
    "\t\t\t& (computer_df.air_date <= datetime.datetime(2009, 12, 31))]"
   ]
  },
  {
   "cell_type": "code",
   "execution_count": 30,
   "metadata": {},
   "outputs": [
    {
     "name": "stdout",
     "output_type": "stream",
     "text": [
      "The number of questions that contain the word \"Computer\" in the 90s and 2000s is 98 and 268 respectively.\n"
     ]
    }
   ],
   "source": [
    "# Count how many questions are in the 90s and the 2000s\n",
    "rows_computer_90s = computer_90s.shape[0] # Return the number of rows\n",
    "rows_computer_2000s = computer_2000s.shape[0]\n",
    "print(f'The number of questions that contain the word \"Computer\" in the 90s and 2000s \\\n",
    "is {rows_computer_90s} and {rows_computer_2000s} respectively.')"
   ]
  },
  {
   "cell_type": "markdown",
   "metadata": {},
   "source": [
    "## Task 4:\n",
    "Investigate if there is a connection between the round and the category. Are we more likely to find certain categories, like \"Literature\" in Single Jeopardy or Double Jeopardy?"
   ]
  },
  {
   "cell_type": "code",
   "execution_count": 31,
   "metadata": {},
   "outputs": [],
   "source": [
    "# Function to count the number of questions belong to a given category per round\n",
    "def category_by_round(dataset, category_name):\n",
    "\tcategory_df = dataset[dataset.category == category_name.upper()]\n",
    "\tquestions_per_round = category_df.groupby('round').category.count().sort_values(ascending=False).reset_index()\n",
    "\tquestions_per_round.rename(columns={'category':'count'}, inplace=True)\n",
    "\treturn questions_per_round"
   ]
  },
  {
   "cell_type": "code",
   "execution_count": 32,
   "metadata": {},
   "outputs": [
    {
     "data": {
      "text/html": [
       "<div>\n",
       "<style scoped>\n",
       "    .dataframe tbody tr th:only-of-type {\n",
       "        vertical-align: middle;\n",
       "    }\n",
       "\n",
       "    .dataframe tbody tr th {\n",
       "        vertical-align: top;\n",
       "    }\n",
       "\n",
       "    .dataframe thead th {\n",
       "        text-align: right;\n",
       "    }\n",
       "</style>\n",
       "<table border=\"1\" class=\"dataframe\">\n",
       "  <thead>\n",
       "    <tr style=\"text-align: right;\">\n",
       "      <th></th>\n",
       "      <th>round</th>\n",
       "      <th>count</th>\n",
       "    </tr>\n",
       "  </thead>\n",
       "  <tbody>\n",
       "    <tr>\n",
       "      <th>0</th>\n",
       "      <td>Double Jeopardy!</td>\n",
       "      <td>381</td>\n",
       "    </tr>\n",
       "    <tr>\n",
       "      <th>1</th>\n",
       "      <td>Jeopardy!</td>\n",
       "      <td>105</td>\n",
       "    </tr>\n",
       "    <tr>\n",
       "      <th>2</th>\n",
       "      <td>Final Jeopardy!</td>\n",
       "      <td>10</td>\n",
       "    </tr>\n",
       "  </tbody>\n",
       "</table>\n",
       "</div>"
      ],
      "text/plain": [
       "              round  count\n",
       "0  Double Jeopardy!    381\n",
       "1         Jeopardy!    105\n",
       "2   Final Jeopardy!     10"
      ]
     },
     "execution_count": 32,
     "metadata": {},
     "output_type": "execute_result"
    }
   ],
   "source": [
    "# Test the category_by_round function\n",
    "# Find out how many questions belong to Literature category per round\n",
    "literature = category_by_round(df, 'literature')\n",
    "literature.head()"
   ]
  },
  {
   "cell_type": "markdown",
   "metadata": {},
   "source": [
    "> We are more likely to find *Literature* category questions in *Double Jeopardy!* round than in *Jeopardy!* round. *Literature* category questions is less likely to appear in *Final Jeopardy!* round."
   ]
  },
  {
   "cell_type": "markdown",
   "metadata": {},
   "source": [
    "## Task 5: This Is Jeopardy! Quiz Game\n",
    "In this task, I will write a function to build a quiz system. The quiz system will ask the player a random question from its question bank, then use the input function to get the answer from the player. Next, it will check if the players' answer is correct or not and display the number of correct and incorrect answers that the player has made so far."
   ]
  },
  {
   "cell_type": "code",
   "execution_count": 33,
   "metadata": {},
   "outputs": [],
   "source": [
    "def quiz_system(df):\n",
    "\tplayer_choice = input('Do you wanna play the Jeopardy! game? \\\n",
    "\t\t(Answer YES to continue, NO to quit)').upper()\n",
    "\tcorrect = 0 # to keep track of how many correct and incorrect answers\n",
    "\tincorrect = 0\n",
    "\t\n",
    "\twhile (player_choice == 'YES'):\n",
    "\t\trandom_index = random.randint(0, len(df)) # Return a number between 0 and len(df)\n",
    "\t\tquestion = df.question.iloc[random_index] # Select the question at location of random_index\n",
    "\t\tanswer = df.answer.iloc[random_index] # Store the corresponding answer\n",
    "\t\t\n",
    "\t\tprint('\\n')\n",
    "\t\tprint(question)\n",
    "\t\tplayer_answer = input('Your answer is: \\n') # Store the player's answer\n",
    "\t\tprint('\\n')\n",
    "\t\tsleep(0.5)\n",
    "\n",
    "\t\tif player_answer.lower() == answer.lower(): # If the player's answer is correct\n",
    "\t\t\tcorrect += 1\n",
    "\t\t\tprint('Yay! It\\'s correct. Very great job!!!\\n')\n",
    "\t\t\tprint(f'You have {correct} correct answer(s) and {incorrect} incorrect answers.')\n",
    "\t\telse: # If the player's answer is incorrect\n",
    "\t\t\tincorrect += 1\n",
    "\t\t\tprint('Ohh noo! It\\'s incorrect. But don\\'t give up!!!\\n')\n",
    "\t\t\tprint(f'The correct answer is {answer}.\\n')\n",
    "\t\t\tprint(f'You have {correct} correct answer(s) and {incorrect} incorrect answers.')\n",
    "\t\t# Ask if the player want to try another question\n",
    "\t\tanother_question = input('Do you wanna try another question? \\\n",
    "\t\t\t\t\t\t(Answer YES to continue, NO to quit)\\n').upper()\n",
    "\t\tsleep(0.5)\n",
    "\t\tif another_question == 'YES':\n",
    "\t\t\tplayer_choice = 'YES' # jump to while loop (player_choice == 'YES')\n",
    "\t\telse:\n",
    "\t\t\tplayer_choice = 'NO' # # jump to while loop (player_choice == 'NO')\n",
    "\t\t\n",
    "\twhile (player_choice == 'NO'):\n",
    "\t\tprint('Bye bye! Hope to see you again soon!')\n",
    "\t\tbreak\t"
   ]
  },
  {
   "cell_type": "code",
   "execution_count": 34,
   "metadata": {},
   "outputs": [
    {
     "name": "stdout",
     "output_type": "stream",
     "text": [
      "\n",
      "\n",
      "In 1903 this Boston team won baseball's first World Series\n",
      "\n",
      "\n",
      "Ohh noo! It's incorrect. But don't give up!!!\n",
      "\n",
      "The correct answer is Boston Red Sox.\n",
      "\n",
      "You have 0 correct answer(s) and 1 incorrect answers.\n",
      "Bye bye! Hope to see you again soon!\n"
     ]
    }
   ],
   "source": [
    "quiz_system(df)"
   ]
  }
 ],
 "metadata": {
  "kernelspec": {
   "display_name": "Python 3.9.7 ('base')",
   "language": "python",
   "name": "python3"
  },
  "language_info": {
   "codemirror_mode": {
    "name": "ipython",
    "version": 3
   },
   "file_extension": ".py",
   "mimetype": "text/x-python",
   "name": "python",
   "nbconvert_exporter": "python",
   "pygments_lexer": "ipython3",
   "version": "3.9.7"
  },
  "orig_nbformat": 4,
  "vscode": {
   "interpreter": {
    "hash": "2f6f713a73131929884107d5879e1415f96edbb4ada91f63cc7d284d9afa6fbd"
   }
  }
 },
 "nbformat": 4,
 "nbformat_minor": 2
}
